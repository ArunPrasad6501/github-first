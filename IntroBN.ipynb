{
 "cells": [
  {
   "cell_type": "code",
   "execution_count": null,
   "metadata": {},
   "outputs": [],
   "source": [
    "# Introduction/Business Problem\n",
    "\n",
    "\n",
    "# Idea : \n",
    "#       My Project is to fetch the data locations in Visakhapatnam, Andhra Pradesh\n",
    "#       If anyone wants to construct a mall something like CMR Central or Anything else My Project will show them the perfect \n",
    "#       location, area and friendly neighborhood to start their future....."
   ]
  }
 ],
 "metadata": {
  "kernelspec": {
   "display_name": "Python 3",
   "language": "python",
   "name": "python3"
  },
  "language_info": {
   "codemirror_mode": {
    "name": "ipython",
    "version": 3
   },
   "file_extension": ".py",
   "mimetype": "text/x-python",
   "name": "python",
   "nbconvert_exporter": "python",
   "pygments_lexer": "ipython3",
   "version": "3.7.6"
  }
 },
 "nbformat": 4,
 "nbformat_minor": 4
}
