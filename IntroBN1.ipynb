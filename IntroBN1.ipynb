{
 "cells": [
  {
   "cell_type": "code",
   "execution_count": null,
   "metadata": {},
   "outputs": [],
   "source": [
    "# Intoduction/ Business Problem\n",
    "\n",
    "# Idea :\n",
    "#   In a city of your choice, if someone is looking to open a restaurant, where would you recommend that they open it? \n",
    "#   Similarly, if a contractor is trying to start their own business, where would you recommend that they setup their office?\n",
    "\n",
    "# Target Audience :\n",
    "#   People who are looking to open a restaurants, Coffee Shops, Pharmacy. etc... can check the friendly neighborhood in the city\n",
    "#   and they can find the best neighborhood to start their business\n",
    "\n",
    "#   And also People who wants to visit good places in a city might see this helpful."
   ]
  }
 ],
 "metadata": {
  "kernelspec": {
   "display_name": "Python 3",
   "language": "python",
   "name": "python3"
  },
  "language_info": {
   "codemirror_mode": {
    "name": "ipython",
    "version": 3
   },
   "file_extension": ".py",
   "mimetype": "text/x-python",
   "name": "python",
   "nbconvert_exporter": "python",
   "pygments_lexer": "ipython3",
   "version": "3.7.6"
  }
 },
 "nbformat": 4,
 "nbformat_minor": 4
}
