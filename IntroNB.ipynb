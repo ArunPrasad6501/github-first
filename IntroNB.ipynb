{
 "cells": [
  {
   "cell_type": "code",
   "execution_count": null,
   "metadata": {},
   "outputs": [],
   "source": [
    "# Introduction/Business Problem\n",
    "\n",
    "\n",
    "# Idea : \n",
    "#       My Project is to fetch the data locations in Visakhapatnam, Andhra Pradesh\n",
    "#       If anyone wants to visit Visakhaptnam the coolest city in A.P not in weather by the way....\n",
    "#       My Project will show them the perfect tourist spots and beautiful locations, and worth looking beauty of nature and their\n",
    "#       location, area and friendly neighborhood to start their trip in financial city of Andhra Pradesh....."
   ]
  }
 ],
 "metadata": {
  "kernelspec": {
   "display_name": "Python 3",
   "language": "python",
   "name": "python3"
  },
  "language_info": {
   "codemirror_mode": {
    "name": "ipython",
    "version": 3
   },
   "file_extension": ".py",
   "mimetype": "text/x-python",
   "name": "python",
   "nbconvert_exporter": "python",
   "pygments_lexer": "ipython3",
   "version": "3.7.6"
  }
 },
 "nbformat": 4,
 "nbformat_minor": 4
}
